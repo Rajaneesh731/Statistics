{
 "cells": [
  {
   "cell_type": "code",
   "execution_count": null,
   "id": "a6868ff4",
   "metadata": {},
   "outputs": [],
   "source": []
  },
  {
   "cell_type": "markdown",
   "id": "b567d26c",
   "metadata": {},
   "source": [
    "# Exploring the Data Distribution"
   ]
  },
  {
   "cell_type": "markdown",
   "id": "33ac385e",
   "metadata": {},
   "source": [
    "For univariate data"
   ]
  },
  {
   "cell_type": "code",
   "execution_count": null,
   "id": "02474078",
   "metadata": {},
   "outputs": [],
   "source": [
    "# boxplot\n",
    "ax = (df['population']).plot.box()\n",
    "ax.set_ylabel('population (millions)')\n",
    "\n",
    "# Histogram\n",
    "ax = (df['population']).plot.hist(figsize=(4,4))\n",
    "ax.set_xlabel('population (millions)')\n",
    "\n",
    "ax = (df['murder Rate']).plot.hist(density=True, xlim=[0,12], bins=range(1,12))\n",
    "df['murder Rate'].plot.density(ax=ax)\n",
    "ax.set_xlabel('Murder Rate (per 100,000)')\n",
    "\n",
    "# Bar graph\n",
    "ax = dfw.transpose().plot.bar(figsize=(4,4), legend=False)"
   ]
  },
  {
   "cell_type": "markdown",
   "id": "caaf68b9",
   "metadata": {},
   "source": [
    "For Multivariate Data"
   ]
  },
  {
   "cell_type": "code",
   "execution_count": null,
   "id": "a7996520",
   "metadata": {},
   "outputs": [],
   "source": [
    "# Pearson Correlation Coefficient (PCC) using Pandas\n",
    "import pandas as pd\n",
    "df = df[['colA','colB']].dropna()\n",
    "df.corr() # returns a matrix with each columns correlation to all others\n",
    "\n",
    "# PCC and p-value(significance) using Scipy\n",
    "from scipy.stats import pearsonr\n",
    "pearsonr(df['colA'], df['colB'])\n",
    "\n",
    "# PCC, p-value, and Confidence Level, etc. using pingouin\n",
    "from pingouin import corr\n",
    "corr(df['colA'], df['colB'])\n",
    "\n",
    "# PCC using researchpy\n",
    "from researchpy.correlation import corr_case\n",
    "corr_case(df[['colA','colB']])\n",
    "\n",
    "# PCC using Numpy\n",
    "import numpy as np\n",
    "arrayOne = np.array(df['colA'])\n",
    "arrayTwo = np.array(df['colB'])\n",
    "np.corrcoef(arrayOne, arrayTwo)"
   ]
  }
 ],
 "metadata": {
  "kernelspec": {
   "display_name": "Python 3",
   "language": "python",
   "name": "python3"
  },
  "language_info": {
   "codemirror_mode": {
    "name": "ipython",
    "version": 3
   },
   "file_extension": ".py",
   "mimetype": "text/x-python",
   "name": "python",
   "nbconvert_exporter": "python",
   "pygments_lexer": "ipython3",
   "version": "3.8.8"
  }
 },
 "nbformat": 4,
 "nbformat_minor": 5
}
